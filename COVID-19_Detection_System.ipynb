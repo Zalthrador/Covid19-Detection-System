{
 "cells": [
  {
   "cell_type": "code",
   "execution_count": 47,
   "id": "7271b193-0ebd-4c66-90b1-02d79edfa49f",
   "metadata": {},
   "outputs": [],
   "source": [
    "from keras.preprocessing.image import ImageDataGenerator\n",
    "from keras.models import Sequential\n",
    "from keras.layers import Dense, Conv2D, MaxPooling2D, BatchNormalization, Dropout, Flatten\n",
    "from sklearn.preprocessing import OneHotEncoder\n",
    "from keras.utils import to_categorical\n",
    "from keras.optimizers import Adam\n",
    "from sklearn.model_selection import train_test_split\n",
    "from sklearn.metrics import accuracy_score, confusion_matrix, ConfusionMatrixDisplay\n",
    "import numpy as np\n",
    "import matplotlib.pyplot as plt"
   ]
  },
  {
   "cell_type": "code",
   "execution_count": 3,
   "id": "e239814d-3a06-46d5-b2ea-157ecf6e2d6c",
   "metadata": {},
   "outputs": [],
   "source": [
    "train_datagen = ImageDataGenerator(rescale = 1./255, shear_range = 0.2, zoom_range = 0.2, horizontal_flip = True)\n",
    "test_datagen = ImageDataGenerator(rescale = 1./255, shear_range = 0.2, zoom_range = 0.2, horizontal_flip = True)"
   ]
  },
  {
   "cell_type": "code",
   "execution_count": 36,
   "id": "b038d982-19c7-43e3-befa-4bb39ecae81c",
   "metadata": {},
   "outputs": [
    {
     "name": "stdout",
     "output_type": "stream",
     "text": [
      "Found 251 images belonging to 3 classes.\n",
      "Found 66 images belonging to 3 classes.\n",
      "Found 66 images belonging to 3 classes.\n"
     ]
    }
   ],
   "source": [
    "# Reshaping test and validation images\n",
    "train_generator = train_datagen.flow_from_directory(\n",
    "    './Covid19-dataset/train',\n",
    "    target_size = (224,224),\n",
    "    batch_size = 32,\n",
    "    class_mode = 'categorical')\n",
    "validation_generator = test_datagen.flow_from_directory(\n",
    "    './Covid19-dataset/test',\n",
    "    target_size = (224,224),\n",
    "    batch_size = 32,\n",
    "    class_mode = 'categorical')\n",
    "test_generator = test_datagen.flow_from_directory(\n",
    "    './Covid19-dataset/test',\n",
    "    target_size = (224,224),\n",
    "    batch_size = 32,\n",
    "    class_mode = None,\n",
    "    shuffle = False)"
   ]
  },
  {
   "cell_type": "code",
   "execution_count": 11,
   "id": "85d325c1-cdca-44b2-8e32-20dbc4cdce36",
   "metadata": {},
   "outputs": [],
   "source": [
    "# Training model\n",
    "model = Sequential()  # Creating a blank model\n",
    "model.add(Conv2D(32,kernel_size=(3,3),activation='relu', input_shape=(224,224,3)))\n",
    "model.add(MaxPooling2D(pool_size=(2,2)))\n",
    "\n",
    "model.add(Conv2D(64,(3,3),activation='relu'))\n",
    "model.add(MaxPooling2D(pool_size=(2,2)))\n",
    "model.add(Dropout(0.25))    # Reduce the overfitting\n",
    "\n",
    "model.add(Conv2D(64,(3,3),activation='relu'))\n",
    "model.add(MaxPooling2D(pool_size=(2,2)))\n",
    "model.add(Dropout(0.25))\n",
    "\n",
    "model.add(Conv2D(128,(3,3),activation='relu'))\n",
    "model.add(MaxPooling2D(pool_size=(2,2)))\n",
    "model.add(Dropout(0.25))\n",
    "\n",
    "model.add(Flatten())      # Input layer\n",
    "model.add(Dense(64,activation='relu'))        # Hidden layer of ANN\n",
    "model.add(Dropout(0.5))\n",
    "model.add(Dense(3,activation='softmax'))      # Output layer\n",
    "\n",
    "model.compile(loss='categorical_crossentropy', optimizer='adam', metrics=['accuracy'])"
   ]
  },
  {
   "cell_type": "code",
   "execution_count": 12,
   "id": "43e9cf7f-20bf-46b6-b00d-56270b1e3d93",
   "metadata": {
    "scrolled": true
   },
   "outputs": [
    {
     "name": "stdout",
     "output_type": "stream",
     "text": [
      "Epoch 1/20\n",
      "5/5 [==============================] - 26s 5s/step - loss: 2.2398 - accuracy: 0.4258 - val_loss: 1.0942 - val_accuracy: 0.3438\n",
      "Epoch 2/20\n",
      "5/5 [==============================] - 22s 4s/step - loss: 1.0688 - accuracy: 0.4065 - val_loss: 1.0867 - val_accuracy: 0.5625\n",
      "Epoch 3/20\n",
      "5/5 [==============================] - 22s 4s/step - loss: 1.0512 - accuracy: 0.4688 - val_loss: 1.0791 - val_accuracy: 0.3438\n",
      "Epoch 4/20\n",
      "5/5 [==============================] - 22s 4s/step - loss: 0.9662 - accuracy: 0.5613 - val_loss: 1.0204 - val_accuracy: 0.5000\n",
      "Epoch 5/20\n",
      "5/5 [==============================] - 20s 4s/step - loss: 0.9437 - accuracy: 0.5806 - val_loss: 0.9384 - val_accuracy: 0.5625\n",
      "Epoch 6/20\n",
      "5/5 [==============================] - 21s 4s/step - loss: 0.8087 - accuracy: 0.6187 - val_loss: 0.7852 - val_accuracy: 0.7812\n",
      "Epoch 7/20\n",
      "5/5 [==============================] - 21s 4s/step - loss: 0.7819 - accuracy: 0.6516 - val_loss: 0.6852 - val_accuracy: 0.7500\n",
      "Epoch 8/20\n",
      "5/5 [==============================] - 22s 5s/step - loss: 0.6421 - accuracy: 0.7226 - val_loss: 0.5749 - val_accuracy: 0.7188\n",
      "Epoch 9/20\n",
      "5/5 [==============================] - 22s 4s/step - loss: 0.5390 - accuracy: 0.7250 - val_loss: 0.6418 - val_accuracy: 0.6250\n",
      "Epoch 10/20\n",
      "5/5 [==============================] - 21s 4s/step - loss: 0.6262 - accuracy: 0.7250 - val_loss: 0.6028 - val_accuracy: 0.6250\n",
      "Epoch 11/20\n",
      "5/5 [==============================] - 21s 4s/step - loss: 0.5369 - accuracy: 0.8000 - val_loss: 0.5500 - val_accuracy: 0.7188\n",
      "Epoch 12/20\n",
      "5/5 [==============================] - 21s 4s/step - loss: 0.5361 - accuracy: 0.7806 - val_loss: 0.5872 - val_accuracy: 0.6250\n",
      "Epoch 13/20\n",
      "5/5 [==============================] - 21s 4s/step - loss: 0.5453 - accuracy: 0.7935 - val_loss: 0.5929 - val_accuracy: 0.7500\n",
      "Epoch 14/20\n",
      "5/5 [==============================] - 22s 4s/step - loss: 0.4428 - accuracy: 0.8258 - val_loss: 0.4997 - val_accuracy: 0.7188\n",
      "Epoch 15/20\n",
      "5/5 [==============================] - 21s 4s/step - loss: 0.4384 - accuracy: 0.7935 - val_loss: 0.6682 - val_accuracy: 0.6562\n",
      "Epoch 16/20\n",
      "5/5 [==============================] - 22s 4s/step - loss: 0.4513 - accuracy: 0.7750 - val_loss: 0.4922 - val_accuracy: 0.6250\n",
      "Epoch 17/20\n",
      "5/5 [==============================] - 21s 4s/step - loss: 0.4037 - accuracy: 0.8516 - val_loss: 0.5213 - val_accuracy: 0.7500\n",
      "Epoch 18/20\n",
      "5/5 [==============================] - 22s 4s/step - loss: 0.4589 - accuracy: 0.8516 - val_loss: 0.4631 - val_accuracy: 0.8125\n",
      "Epoch 19/20\n",
      "5/5 [==============================] - 22s 4s/step - loss: 0.4310 - accuracy: 0.8194 - val_loss: 0.4715 - val_accuracy: 0.7188\n",
      "Epoch 20/20\n",
      "5/5 [==============================] - 23s 5s/step - loss: 0.4002 - accuracy: 0.8065 - val_loss: 0.4500 - val_accuracy: 0.7812\n"
     ]
    }
   ],
   "source": [
    "# Train the model\n",
    "history = model.fit(\n",
    "    train_generator,\n",
    "    steps_per_epoch=5,\n",
    "    epochs = 20,\n",
    "    validation_data = validation_generator,\n",
    "    validation_steps=1)"
   ]
  },
  {
   "cell_type": "code",
   "execution_count": 49,
   "id": "6a7cdc1a-b0eb-4f90-9a70-f06d471a28aa",
   "metadata": {},
   "outputs": [],
   "source": [
    "import os\n",
    "from PIL import Image\n",
    "\n",
    "root_dir = './Covid19-dataset/test'\n",
    "# image_list = []\n",
    "# for dirpath, dirnames, filenames in os.walk(root_dir):\n",
    "#     for filename in filenames:\n",
    "#         if filename.endswith(('.jpg', '.png', '.jpeg')):\n",
    "#             image_path = os.path.join(dirpath, filename)\n",
    "#             image = Image.open(image_path)\n",
    "#             image_list.append(image)\n",
    "\n",
    "# print(image_list)"
   ]
  },
  {
   "cell_type": "code",
   "execution_count": 50,
   "id": "6c6a2c7b-abb1-498a-beda-1f40b7e660e8",
   "metadata": {},
   "outputs": [
    {
     "name": "stdout",
     "output_type": "stream",
     "text": [
      "[0, 0, 0, 0, 0, 0, 0, 0, 0, 0, 0, 0, 0, 0, 0, 0, 0, 0, 0, 0, 0, 0, 0, 0, 0, 0, 1, 1, 1, 1, 1, 1, 1, 1, 1, 1, 1, 1, 1, 1, 1, 1, 1, 1, 1, 1, 2, 2, 2, 2, 2, 2, 2, 2, 2, 2, 2, 2, 2, 2, 2, 2, 2, 2, 2, 2]\n"
     ]
    }
   ],
   "source": [
    "import os\n",
    "\n",
    "# Define the path to the test folder\n",
    "root_dir = './Covid19-dataset/test'\n",
    "\n",
    "# Initialize an empty list to store results\n",
    "result = []\n",
    "\n",
    "# Define labels for each folder\n",
    "labels = {\n",
    "    'Covid': 0,\n",
    "    'Normal': 1,\n",
    "    'Viral Pneumonia': 2\n",
    "}\n",
    "\n",
    "# Iterate over each folder in the test directory\n",
    "for folder_name, label in labels.items():\n",
    "    folder_path = os.path.join(root_dir, folder_name)\n",
    "    \n",
    "    # Count the number of images in the current folder\n",
    "    image_count = len([img for img in os.listdir(folder_path) if img.endswith(('.png', '.jpg', '.jpeg'))])\n",
    "    \n",
    "    # Append the label for each image found in the folder\n",
    "    result.extend([label] * image_count)\n",
    "\n",
    "# Display the final result list\n",
    "print(result)\n"
   ]
  },
  {
   "cell_type": "code",
   "execution_count": 51,
   "id": "4a5fb013-6d25-4505-8e67-b1d680d92225",
   "metadata": {},
   "outputs": [
    {
     "name": "stdout",
     "output_type": "stream",
     "text": [
      "3/3 [==============================] - 4s 1s/step\n"
     ]
    }
   ],
   "source": [
    "pred = model.predict(test_generator)"
   ]
  },
  {
   "cell_type": "code",
   "execution_count": 52,
   "id": "0d06c87d-26d6-4ed5-8c00-8c9db0df657b",
   "metadata": {},
   "outputs": [
    {
     "name": "stdout",
     "output_type": "stream",
     "text": [
      "<class 'numpy.ndarray'>\n"
     ]
    }
   ],
   "source": [
    "print(type(pred))"
   ]
  },
  {
   "cell_type": "code",
   "execution_count": 53,
   "id": "22f5ff13-8fa4-4535-8599-b6dd02681fb4",
   "metadata": {},
   "outputs": [
    {
     "name": "stdout",
     "output_type": "stream",
     "text": [
      "[0, 0, 0, 0, 0, 0, 0, 0, 0, 1, 2, 0, 0, 1, 0, 0, 0, 0, 0, 0, 0, 0, 0, 0, 0, 0, 0, 1, 2, 1, 1, 2, 2, 2, 2, 2, 1, 2, 2, 1, 1, 2, 2, 1, 1, 1, 1, 2, 2, 2, 2, 2, 2, 2, 1, 2, 2, 2, 1, 2, 2, 2, 2, 1, 2, 1]\n"
     ]
    }
   ],
   "source": [
    "predicted = []\n",
    "\n",
    "for row in pred:\n",
    "    max_index = np.argmax(row)\n",
    "    predicted.append(max_index)\n",
    "print(predicted)"
   ]
  },
  {
   "cell_type": "code",
   "execution_count": 54,
   "id": "e076fad5-5d45-4f05-a6c1-263fad4f91b1",
   "metadata": {},
   "outputs": [
    {
     "name": "stdout",
     "output_type": "stream",
     "text": [
      "0.7121212121212122\n",
      "[[23  2  1]\n",
      " [ 1  9 10]\n",
      " [ 0  5 15]]\n"
     ]
    }
   ],
   "source": [
    "print(accuracy_score(result, predicted))\n",
    "print(confusion_matrix(result, predicted))"
   ]
  },
  {
   "cell_type": "code",
   "execution_count": 55,
   "id": "bc1ce1e0-d852-4b36-b080-84cf3c7d9375",
   "metadata": {},
   "outputs": [
    {
     "data": {
      "image/png": "[encoded data removed]",
      "text/plain": [
       "<Figure size 640x480 with 2 Axes>"
      ]
     },
     "metadata": {},
     "output_type": "display_data"
    }
   ],
   "source": [
    "# Showing confusion matrix\n",
    "# Display the confusion matrix using ConfusionMatrixDisplay\n",
    "disp = ConfusionMatrixDisplay(confusion_matrix=confusion_matrix(result, predicted))\n",
    "disp.plot()\n",
    "plt.show()"
   ]
  },
  {
   "cell_type": "code",
   "execution_count": null,
   "id": "5b83a54f-ff9a-44dc-80b5-ecf0f5b71af2",
   "metadata": {},
   "outputs": [],
   "source": []
  }
 ],
 "metadata": {
  "kernelspec": {
   "display_name": "Python 3 (ipykernel)",
   "language": "python",
   "name": "python3"
  },
  "language_info": {
   "codemirror_mode": {
    "name": "ipython",
    "version": 3
   },
   "file_extension": ".py",
   "mimetype": "text/x-python",
   "name": "python",
   "nbconvert_exporter": "python",
   "pygments_lexer": "ipython3",
   "version": "3.10.11"
  }
 },
 "nbformat": 4,
 "nbformat_minor": 5
}
